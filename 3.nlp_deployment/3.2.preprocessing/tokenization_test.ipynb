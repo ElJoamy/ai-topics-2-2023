{
 "cells": [
  {
   "cell_type": "code",
   "execution_count": 1,
   "metadata": {},
   "outputs": [],
   "source": [
    "import spacy"
   ]
  },
  {
   "cell_type": "markdown",
   "metadata": {},
   "source": [
    "## Cargar el modelo a usar"
   ]
  },
  {
   "cell_type": "code",
   "execution_count": 4,
   "metadata": {},
   "outputs": [
    {
     "ename": "OSError",
     "evalue": "[E050] Can't find model 'es_core_news_sm'. It doesn't seem to be a Python package or a valid path to a data directory.",
     "output_type": "error",
     "traceback": [
      "\u001b[1;31m---------------------------------------------------------------------------\u001b[0m",
      "\u001b[1;31mOSError\u001b[0m                                   Traceback (most recent call last)",
      "\u001b[1;32md:\\Documentos\\UPB\\8vo semestre\\topicos selectos en IA\\ai-topics-2-2023\\3.nlp_deployment\\3.2.preprocessing\\tokenization_test.ipynb Celda 3\u001b[0m line \u001b[0;36m1\n\u001b[1;32m----> <a href='vscode-notebook-cell:/d%3A/Documentos/UPB/8vo%20semestre/topicos%20selectos%20en%20IA/ai-topics-2-2023/3.nlp_deployment/3.2.preprocessing/tokenization_test.ipynb#W2sZmlsZQ%3D%3D?line=0'>1</a>\u001b[0m nlp \u001b[39m=\u001b[39m spacy\u001b[39m.\u001b[39;49mload(\u001b[39m\"\u001b[39;49m\u001b[39mes_core_news_sm\u001b[39;49m\u001b[39m\"\u001b[39;49m)\n",
      "File \u001b[1;32mc:\\Users\\Jhoamy\\.conda\\envs\\web\\Lib\\site-packages\\spacy\\__init__.py:51\u001b[0m, in \u001b[0;36mload\u001b[1;34m(name, vocab, disable, enable, exclude, config)\u001b[0m\n\u001b[0;32m     27\u001b[0m \u001b[39mdef\u001b[39;00m \u001b[39mload\u001b[39m(\n\u001b[0;32m     28\u001b[0m     name: Union[\u001b[39mstr\u001b[39m, Path],\n\u001b[0;32m     29\u001b[0m     \u001b[39m*\u001b[39m,\n\u001b[1;32m   (...)\u001b[0m\n\u001b[0;32m     34\u001b[0m     config: Union[Dict[\u001b[39mstr\u001b[39m, Any], Config] \u001b[39m=\u001b[39m util\u001b[39m.\u001b[39mSimpleFrozenDict(),\n\u001b[0;32m     35\u001b[0m ) \u001b[39m-\u001b[39m\u001b[39m>\u001b[39m Language:\n\u001b[0;32m     36\u001b[0m \u001b[39m    \u001b[39m\u001b[39m\"\"\"Load a spaCy model from an installed package or a local path.\u001b[39;00m\n\u001b[0;32m     37\u001b[0m \n\u001b[0;32m     38\u001b[0m \u001b[39m    name (str): Package name or model path.\u001b[39;00m\n\u001b[1;32m   (...)\u001b[0m\n\u001b[0;32m     49\u001b[0m \u001b[39m    RETURNS (Language): The loaded nlp object.\u001b[39;00m\n\u001b[0;32m     50\u001b[0m \u001b[39m    \"\"\"\u001b[39;00m\n\u001b[1;32m---> 51\u001b[0m     \u001b[39mreturn\u001b[39;00m util\u001b[39m.\u001b[39;49mload_model(\n\u001b[0;32m     52\u001b[0m         name,\n\u001b[0;32m     53\u001b[0m         vocab\u001b[39m=\u001b[39;49mvocab,\n\u001b[0;32m     54\u001b[0m         disable\u001b[39m=\u001b[39;49mdisable,\n\u001b[0;32m     55\u001b[0m         enable\u001b[39m=\u001b[39;49menable,\n\u001b[0;32m     56\u001b[0m         exclude\u001b[39m=\u001b[39;49mexclude,\n\u001b[0;32m     57\u001b[0m         config\u001b[39m=\u001b[39;49mconfig,\n\u001b[0;32m     58\u001b[0m     )\n",
      "File \u001b[1;32mc:\\Users\\Jhoamy\\.conda\\envs\\web\\Lib\\site-packages\\spacy\\util.py:472\u001b[0m, in \u001b[0;36mload_model\u001b[1;34m(name, vocab, disable, enable, exclude, config)\u001b[0m\n\u001b[0;32m    470\u001b[0m \u001b[39mif\u001b[39;00m name \u001b[39min\u001b[39;00m OLD_MODEL_SHORTCUTS:\n\u001b[0;32m    471\u001b[0m     \u001b[39mraise\u001b[39;00m \u001b[39mIOError\u001b[39;00m(Errors\u001b[39m.\u001b[39mE941\u001b[39m.\u001b[39mformat(name\u001b[39m=\u001b[39mname, full\u001b[39m=\u001b[39mOLD_MODEL_SHORTCUTS[name]))  \u001b[39m# type: ignore[index]\u001b[39;00m\n\u001b[1;32m--> 472\u001b[0m \u001b[39mraise\u001b[39;00m \u001b[39mIOError\u001b[39;00m(Errors\u001b[39m.\u001b[39mE050\u001b[39m.\u001b[39mformat(name\u001b[39m=\u001b[39mname))\n",
      "\u001b[1;31mOSError\u001b[0m: [E050] Can't find model 'es_core_news_sm'. It doesn't seem to be a Python package or a valid path to a data directory."
     ]
    }
   ],
   "source": [
    "nlp = spacy.load(\"es_core_news_md\")"
   ]
  },
  {
   "cell_type": "code",
   "execution_count": null,
   "metadata": {},
   "outputs": [],
   "source": [
    "nlp"
   ]
  },
  {
   "cell_type": "markdown",
   "metadata": {},
   "source": [
    "## Tokenizar"
   ]
  },
  {
   "cell_type": "code",
   "execution_count": null,
   "metadata": {},
   "outputs": [],
   "source": [
    "text = \"\"\"Los incendios que se reactivaron con fuerza las últimas semanas, en especial en el norte de La Paz y Beni, son calificados como un “intento de sabotear” al Gobierno de Luis Arce. Por tal motivo, se envió policías de Inteligencia al norte de La Paz y Beni para identificar, aprehender y procesar a los supuestos saboteadores.\n",
    "\n",
    "“Se ha activado (un) grupo de inteligencia de la Policía que se va a desplazar, particularmente en el municipio de Rurrenabaque (Beni) y San Buenaventura (La Paz), porque sospechamos, y existen evidencias que nos han enviado de llantas, existen evidencias que allá ya han detenido personas que están dedicándose a la tarea maliciosa, a la tarea malintencionada de provocar estos incendios”, dijo el ministro de Defensa Edmundo Novillo.\n",
    "\n",
    "La autoridad pidió ayuda a la población para identificar a estos “malos ciudadanos”, que según la perspectiva del Ejecutivo, actúan con “intereses oscuros, como pasó anteriormente. No vamos a permitir, de ninguna manera, que gente y personas que están provocando estos incendios queden impunes, sino vamos a ser muy drásticos con todos ellos. Por eso la Policía está desplazando Inteligencia al lugar”.\n",
    "\n",
    "\n",
    "En esa línea, el vicepresidente, David Choquehuanca, exigió que se investigue y castigue a los que buscan sabotear la gestión de Gobierno.\n",
    "\n",
    "“Exigimos a las autoridades competentes celeridad en la investigación y un castigo ejemplar para aquellos que atentan contra la vida y la naturaleza, provocando incendios en un intento de sabotear a nuestro Gobierno”, se lee en las cuentas de redes sociales de Choquehuanca.\n",
    "\n",
    "Además de aquello, el Gobierno activó con la ABT (Autoridad de Fiscalización y Control Social de Bosques y Tierras), controles en los chaqueos. El ministro Novillo hizo énfasis en apuntar a los empresarios agropecuarios medianos y grandes, a quienes advirtió con procesos.\n",
    "\n",
    "\n",
    "La autoridad dijo que se controlará “toda actividad que pueda hacerse en los incendios en propiedades medianas y grandes ganaderas. Verificar si éstos tienen o no tienen sus autorizaciones para la quema y si estas han expirado el tiempo y si no, vamos a notificarles y vamos a iniciarles los procesos respectivos”. \n",
    "\n",
    "No obstante, Novillo evitó mencionar a los grupos de avasalladores interculturales se asientan en tierras fiscales y privadas y que también tienen denuncias de chaqueos.\n",
    "\n",
    "\n",
    "Campesinos detenidos\n",
    "\n",
    "Desde la Coordinadora Nacional de Defensa de Territorios Indígenas Originarios Campesinos y Áreas Protegidas de Bolivia (Contiocap) denunciaron que en los últimos días en el municipio de San Buenaventura la Policía aprehendió a dos campesinos que estaban haciendo defensivos para que el fuego no avance. La Policía los acusó de provocar los incendios porque estaban con maquinaria.\n",
    "\n",
    "“El Gobierno ha detenido a comunarios de la población de Tumupasa, a dos hermanos de una comunidad campesina que han sido detenidos con una segadora, una motosierra y con un poco de gasolina. Ellos lo que estaban haciendo era intentar hacerdefensivos, abrir brechas para separar el fuego y que no avance. Ellos han usado la poca gasolina que tenían y sus herramientas como evidencia de que están provocando incendios”, dijo a EL DEBER la representante de la Contiocap, Ruth Alipaz.\n",
    "\n",
    "La representante protestó y dijo que el “Gobierno está haciendo un trabajo pésimo, vulnerando derechos de las personas que están luchando sin ayuda del Gobierno hace más de un mes contra los incendios y los muestra como trofeos”.\n",
    "\n",
    "Después de varias semanas de emergencia e insistentes pedidos de los indígenas, organizaciones sociales, activistas y políticos, de que se declare “Desastre Nacional”, anoche el presidente Luis Arce convocó a un gabinete para tratar la crisis del medioambiente, y determinó pedir ayuda internacional a cuatro países: Francia, Chile, Brasil y Venezuela.\n",
    "\n",
    "Éste último envió de manera inmediata un grupo de bomberos expertos en apagar incendios forestales.\"\"\"\n",
    "\n",
    "\n",
    "doc = nlp(text)"
   ]
  },
  {
   "cell_type": "code",
   "execution_count": null,
   "metadata": {},
   "outputs": [],
   "source": [
    "tokens2 = text.split()"
   ]
  },
  {
   "cell_type": "code",
   "execution_count": null,
   "metadata": {},
   "outputs": [],
   "source": [
    "tokens = [token.text for token in doc]\n",
    "print(tokens)\n",
    "print(tokens2)"
   ]
  },
  {
   "cell_type": "markdown",
   "metadata": {},
   "source": [
    "## Part-of-Speech tagging"
   ]
  },
  {
   "cell_type": "code",
   "execution_count": null,
   "metadata": {},
   "outputs": [],
   "source": [
    "pos_tags = [(token.text, token.pos_) for token in doc if token.pos_ == \"VERB\"]\n",
    "print(pos_tags)\n"
   ]
  },
  {
   "cell_type": "markdown",
   "metadata": {},
   "source": [
    "## Named entity recognition (NER)"
   ]
  },
  {
   "cell_type": "code",
   "execution_count": null,
   "metadata": {},
   "outputs": [],
   "source": [
    "entities = [(ent.text, ent.label_) for ent in doc.ents]\n",
    "\n",
    "print(entities)"
   ]
  },
  {
   "cell_type": "markdown",
   "metadata": {},
   "source": [
    "## Dependency parsing  "
   ]
  },
  {
   "cell_type": "code",
   "execution_count": null,
   "metadata": {},
   "outputs": [],
   "source": [
    "dependency_tree = [(token.text, token.dep_) for token in doc]\n",
    "print(dependency_tree)"
   ]
  }
 ],
 "metadata": {
  "kernelspec": {
   "display_name": "topics",
   "language": "python",
   "name": "python3"
  },
  "language_info": {
   "codemirror_mode": {
    "name": "ipython",
    "version": 3
   },
   "file_extension": ".py",
   "mimetype": "text/x-python",
   "name": "python",
   "nbconvert_exporter": "python",
   "pygments_lexer": "ipython3",
   "version": "3.11.5"
  }
 },
 "nbformat": 4,
 "nbformat_minor": 2
}
