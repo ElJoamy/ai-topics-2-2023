{
 "cells": [
  {
   "cell_type": "code",
   "execution_count": 1,
   "metadata": {},
   "outputs": [],
   "source": [
    "import spacy"
   ]
  },
  {
   "cell_type": "markdown",
   "metadata": {},
   "source": [
    "## Cargar el modelo a usar"
   ]
  },
  {
   "cell_type": "code",
   "execution_count": 2,
   "metadata": {},
   "outputs": [],
   "source": [
    "nlp = spacy.load(\"es_core_news_md\")"
   ]
  },
  {
   "cell_type": "code",
   "execution_count": 3,
   "metadata": {},
   "outputs": [
    {
     "data": {
      "text/plain": [
       "<spacy.lang.es.Spanish at 0x17f0d9d2190>"
      ]
     },
     "execution_count": 3,
     "metadata": {},
     "output_type": "execute_result"
    }
   ],
   "source": [
    "nlp"
   ]
  },
  {
   "cell_type": "markdown",
   "metadata": {},
   "source": [
    "## Tokenizar"
   ]
  },
  {
   "cell_type": "code",
   "execution_count": 4,
   "metadata": {},
   "outputs": [],
   "source": [
    "text = \"\"\"Los incendios que se reactivaron con fuerza las últimas semanas, en especial en el norte de La Paz y Beni, son calificados como un “intento de sabotear” al Gobierno de Luis Arce. Por tal motivo, se envió policías de Inteligencia al norte de La Paz y Beni para identificar, aprehender y procesar a los supuestos saboteadores.\n",
    "\n",
    "“Se ha activado (un) grupo de inteligencia de la Policía que se va a desplazar, particularmente en el municipio de Rurrenabaque (Beni) y San Buenaventura (La Paz), porque sospechamos, y existen evidencias que nos han enviado de llantas, existen evidencias que allá ya han detenido personas que están dedicándose a la tarea maliciosa, a la tarea malintencionada de provocar estos incendios”, dijo el ministro de Defensa Edmundo Novillo.\n",
    "\n",
    "La autoridad pidió ayuda a la población para identificar a estos “malos ciudadanos”, que según la perspectiva del Ejecutivo, actúan con “intereses oscuros, como pasó anteriormente. No vamos a permitir, de ninguna manera, que gente y personas que están provocando estos incendios queden impunes, sino vamos a ser muy drásticos con todos ellos. Por eso la Policía está desplazando Inteligencia al lugar”.\n",
    "\n",
    "\n",
    "En esa línea, el vicepresidente, David Choquehuanca, exigió que se investigue y castigue a los que buscan sabotear la gestión de Gobierno.\n",
    "\n",
    "“Exigimos a las autoridades competentes celeridad en la investigación y un castigo ejemplar para aquellos que atentan contra la vida y la naturaleza, provocando incendios en un intento de sabotear a nuestro Gobierno”, se lee en las cuentas de redes sociales de Choquehuanca.\n",
    "\n",
    "Además de aquello, el Gobierno activó con la ABT (Autoridad de Fiscalización y Control Social de Bosques y Tierras), controles en los chaqueos. El ministro Novillo hizo énfasis en apuntar a los empresarios agropecuarios medianos y grandes, a quienes advirtió con procesos.\n",
    "\n",
    "\n",
    "La autoridad dijo que se controlará “toda actividad que pueda hacerse en los incendios en propiedades medianas y grandes ganaderas. Verificar si éstos tienen o no tienen sus autorizaciones para la quema y si estas han expirado el tiempo y si no, vamos a notificarles y vamos a iniciarles los procesos respectivos”. \n",
    "\n",
    "No obstante, Novillo evitó mencionar a los grupos de avasalladores interculturales se asientan en tierras fiscales y privadas y que también tienen denuncias de chaqueos.\n",
    "\n",
    "\n",
    "Campesinos detenidos\n",
    "\n",
    "Desde la Coordinadora Nacional de Defensa de Territorios Indígenas Originarios Campesinos y Áreas Protegidas de Bolivia (Contiocap) denunciaron que en los últimos días en el municipio de San Buenaventura la Policía aprehendió a dos campesinos que estaban haciendo defensivos para que el fuego no avance. La Policía los acusó de provocar los incendios porque estaban con maquinaria.\n",
    "\n",
    "“El Gobierno ha detenido a comunarios de la población de Tumupasa, a dos hermanos de una comunidad campesina que han sido detenidos con una segadora, una motosierra y con un poco de gasolina. Ellos lo que estaban haciendo era intentar hacerdefensivos, abrir brechas para separar el fuego y que no avance. Ellos han usado la poca gasolina que tenían y sus herramientas como evidencia de que están provocando incendios”, dijo a EL DEBER la representante de la Contiocap, Ruth Alipaz.\n",
    "\n",
    "La representante protestó y dijo que el “Gobierno está haciendo un trabajo pésimo, vulnerando derechos de las personas que están luchando sin ayuda del Gobierno hace más de un mes contra los incendios y los muestra como trofeos”.\n",
    "\n",
    "Después de varias semanas de emergencia e insistentes pedidos de los indígenas, organizaciones sociales, activistas y políticos, de que se declare “Desastre Nacional”, anoche el presidente Luis Arce convocó a un gabinete para tratar la crisis del medioambiente, y determinó pedir ayuda internacional a cuatro países: Francia, Chile, Brasil y Venezuela.\n",
    "\n",
    "Éste último envió de manera inmediata un grupo de bomberos expertos en apagar incendios forestales.\"\"\"\n",
    "\n",
    "\n",
    "doc = nlp(text)"
   ]
  },
  {
   "cell_type": "code",
   "execution_count": 5,
   "metadata": {},
   "outputs": [],
   "source": [
    "tokens2 = text.split()"
   ]
  },
  {
   "cell_type": "code",
   "execution_count": 6,
   "metadata": {},
   "outputs": [
    {
     "name": "stdout",
     "output_type": "stream",
     "text": [
      "['Los', 'incendios', 'que', 'se', 'reactivaron', 'con', 'fuerza', 'las', 'últimas', 'semanas', ',', 'en', 'especial', 'en', 'el', 'norte', 'de', 'La', 'Paz', 'y', 'Beni', ',', 'son', 'calificados', 'como', 'un', '“', 'intento', 'de', 'sabotear', '”', 'al', 'Gobierno', 'de', 'Luis', 'Arce', '.', 'Por', 'tal', 'motivo', ',', 'se', 'envió', 'policías', 'de', 'Inteligencia', 'al', 'norte', 'de', 'La', 'Paz', 'y', 'Beni', 'para', 'identificar', ',', 'aprehender', 'y', 'procesar', 'a', 'los', 'supuestos', 'saboteadores', '.', '\\n\\n', '“', 'Se', 'ha', 'activado', '(', 'un', ')', 'grupo', 'de', 'inteligencia', 'de', 'la', 'Policía', 'que', 'se', 'va', 'a', 'desplazar', ',', 'particularmente', 'en', 'el', 'municipio', 'de', 'Rurrenabaque', '(', 'Beni', ')', 'y', 'San', 'Buenaventura', '(', 'La', 'Paz', ')', ',', 'porque', 'sospechamos', ',', 'y', 'existen', 'evidencias', 'que', 'nos', 'han', 'enviado', 'de', 'llantas', ',', 'existen', 'evidencias', 'que', 'allá', 'ya', 'han', 'detenido', 'personas', 'que', 'están', 'dedicándose', 'a', 'la', 'tarea', 'maliciosa', ',', 'a', 'la', 'tarea', 'malintencionada', 'de', 'provocar', 'estos', 'incendios', '”', ',', 'dijo', 'el', 'ministro', 'de', 'Defensa', 'Edmundo', 'Novillo', '.', '\\n\\n', 'La', 'autoridad', 'pidió', 'ayuda', 'a', 'la', 'población', 'para', 'identificar', 'a', 'estos', '“', 'malos', 'ciudadanos', '”', ',', 'que', 'según', 'la', 'perspectiva', 'del', 'Ejecutivo', ',', 'actúan', 'con', '“', 'intereses', 'oscuros', ',', 'como', 'pasó', 'anteriormente', '.', 'No', 'vamos', 'a', 'permitir', ',', 'de', 'ninguna', 'manera', ',', 'que', 'gente', 'y', 'personas', 'que', 'están', 'provocando', 'estos', 'incendios', 'queden', 'impunes', ',', 'sino', 'vamos', 'a', 'ser', 'muy', 'drásticos', 'con', 'todos', 'ellos', '.', 'Por', 'eso', 'la', 'Policía', 'está', 'desplazando', 'Inteligencia', 'al', 'lugar', '”', '.', '\\n\\n\\n', 'En', 'esa', 'línea', ',', 'el', 'vicepresidente', ',', 'David', 'Choquehuanca', ',', 'exigió', 'que', 'se', 'investigue', 'y', 'castigue', 'a', 'los', 'que', 'buscan', 'sabotear', 'la', 'gestión', 'de', 'Gobierno', '.', '\\n\\n', '“', 'Exigimos', 'a', 'las', 'autoridades', 'competentes', 'celeridad', 'en', 'la', 'investigación', 'y', 'un', 'castigo', 'ejemplar', 'para', 'aquellos', 'que', 'atentan', 'contra', 'la', 'vida', 'y', 'la', 'naturaleza', ',', 'provocando', 'incendios', 'en', 'un', 'intento', 'de', 'sabotear', 'a', 'nuestro', 'Gobierno', '”', ',', 'se', 'lee', 'en', 'las', 'cuentas', 'de', 'redes', 'sociales', 'de', 'Choquehuanca', '.', '\\n\\n', 'Además', 'de', 'aquello', ',', 'el', 'Gobierno', 'activó', 'con', 'la', 'ABT', '(', 'Autoridad', 'de', 'Fiscalización', 'y', 'Control', 'Social', 'de', 'Bosques', 'y', 'Tierras', ')', ',', 'controles', 'en', 'los', 'chaqueos', '.', 'El', 'ministro', 'Novillo', 'hizo', 'énfasis', 'en', 'apuntar', 'a', 'los', 'empresarios', 'agropecuarios', 'medianos', 'y', 'grandes', ',', 'a', 'quienes', 'advirtió', 'con', 'procesos', '.', '\\n\\n\\n', 'La', 'autoridad', 'dijo', 'que', 'se', 'controlará', '“', 'toda', 'actividad', 'que', 'pueda', 'hacerse', 'en', 'los', 'incendios', 'en', 'propiedades', 'medianas', 'y', 'grandes', 'ganaderas', '.', 'Verificar', 'si', 'éstos', 'tienen', 'o', 'no', 'tienen', 'sus', 'autorizaciones', 'para', 'la', 'quema', 'y', 'si', 'estas', 'han', 'expirado', 'el', 'tiempo', 'y', 'si', 'no', ',', 'vamos', 'a', 'notificarles', 'y', 'vamos', 'a', 'iniciarles', 'los', 'procesos', 'respectivos', '”', '.', '\\n\\n', 'No', 'obstante', ',', 'Novillo', 'evitó', 'mencionar', 'a', 'los', 'grupos', 'de', 'avasalladores', 'interculturales', 'se', 'asientan', 'en', 'tierras', 'fiscales', 'y', 'privadas', 'y', 'que', 'también', 'tienen', 'denuncias', 'de', 'chaqueos', '.', '\\n\\n\\n', 'Campesinos', 'detenidos', '\\n\\n', 'Desde', 'la', 'Coordinadora', 'Nacional', 'de', 'Defensa', 'de', 'Territorios', 'Indígenas', 'Originarios', 'Campesinos', 'y', 'Áreas', 'Protegidas', 'de', 'Bolivia', '(', 'Contiocap', ')', 'denunciaron', 'que', 'en', 'los', 'últimos', 'días', 'en', 'el', 'municipio', 'de', 'San', 'Buenaventura', 'la', 'Policía', 'aprehendió', 'a', 'dos', 'campesinos', 'que', 'estaban', 'haciendo', 'defensivos', 'para', 'que', 'el', 'fuego', 'no', 'avance', '.', 'La', 'Policía', 'los', 'acusó', 'de', 'provocar', 'los', 'incendios', 'porque', 'estaban', 'con', 'maquinaria', '.', '\\n\\n', '“', 'El', 'Gobierno', 'ha', 'detenido', 'a', 'comunarios', 'de', 'la', 'población', 'de', 'Tumupasa', ',', 'a', 'dos', 'hermanos', 'de', 'una', 'comunidad', 'campesina', 'que', 'han', 'sido', 'detenidos', 'con', 'una', 'segadora', ',', 'una', 'motosierra', 'y', 'con', 'un', 'poco', 'de', 'gasolina', '.', 'Ellos', 'lo', 'que', 'estaban', 'haciendo', 'era', 'intentar', 'hacerdefensivos', ',', 'abrir', 'brechas', 'para', 'separar', 'el', 'fuego', 'y', 'que', 'no', 'avance', '.', 'Ellos', 'han', 'usado', 'la', 'poca', 'gasolina', 'que', 'tenían', 'y', 'sus', 'herramientas', 'como', 'evidencia', 'de', 'que', 'están', 'provocando', 'incendios', '”', ',', 'dijo', 'a', 'EL', 'DEBER', 'la', 'representante', 'de', 'la', 'Contiocap', ',', 'Ruth', 'Alipaz', '.', '\\n\\n', 'La', 'representante', 'protestó', 'y', 'dijo', 'que', 'el', '“', 'Gobierno', 'está', 'haciendo', 'un', 'trabajo', 'pésimo', ',', 'vulnerando', 'derechos', 'de', 'las', 'personas', 'que', 'están', 'luchando', 'sin', 'ayuda', 'del', 'Gobierno', 'hace', 'más', 'de', 'un', 'mes', 'contra', 'los', 'incendios', 'y', 'los', 'muestra', 'como', 'trofeos', '”', '.', '\\n\\n', 'Después', 'de', 'varias', 'semanas', 'de', 'emergencia', 'e', 'insistentes', 'pedidos', 'de', 'los', 'indígenas', ',', 'organizaciones', 'sociales', ',', 'activistas', 'y', 'políticos', ',', 'de', 'que', 'se', 'declare', '“', 'Desastre', 'Nacional', '”', ',', 'anoche', 'el', 'presidente', 'Luis', 'Arce', 'convocó', 'a', 'un', 'gabinete', 'para', 'tratar', 'la', 'crisis', 'del', 'medioambiente', ',', 'y', 'determinó', 'pedir', 'ayuda', 'internacional', 'a', 'cuatro', 'países', ':', 'Francia', ',', 'Chile', ',', 'Brasil', 'y', 'Venezuela', '.', '\\n\\n', 'Éste', 'último', 'envió', 'de', 'manera', 'inmediata', 'un', 'grupo', 'de', 'bomberos', 'expertos', 'en', 'apagar', 'incendios', 'forestales', '.']\n",
      "['Los', 'incendios', 'que', 'se', 'reactivaron', 'con', 'fuerza', 'las', 'últimas', 'semanas,', 'en', 'especial', 'en', 'el', 'norte', 'de', 'La', 'Paz', 'y', 'Beni,', 'son', 'calificados', 'como', 'un', '“intento', 'de', 'sabotear”', 'al', 'Gobierno', 'de', 'Luis', 'Arce.', 'Por', 'tal', 'motivo,', 'se', 'envió', 'policías', 'de', 'Inteligencia', 'al', 'norte', 'de', 'La', 'Paz', 'y', 'Beni', 'para', 'identificar,', 'aprehender', 'y', 'procesar', 'a', 'los', 'supuestos', 'saboteadores.', '“Se', 'ha', 'activado', '(un)', 'grupo', 'de', 'inteligencia', 'de', 'la', 'Policía', 'que', 'se', 'va', 'a', 'desplazar,', 'particularmente', 'en', 'el', 'municipio', 'de', 'Rurrenabaque', '(Beni)', 'y', 'San', 'Buenaventura', '(La', 'Paz),', 'porque', 'sospechamos,', 'y', 'existen', 'evidencias', 'que', 'nos', 'han', 'enviado', 'de', 'llantas,', 'existen', 'evidencias', 'que', 'allá', 'ya', 'han', 'detenido', 'personas', 'que', 'están', 'dedicándose', 'a', 'la', 'tarea', 'maliciosa,', 'a', 'la', 'tarea', 'malintencionada', 'de', 'provocar', 'estos', 'incendios”,', 'dijo', 'el', 'ministro', 'de', 'Defensa', 'Edmundo', 'Novillo.', 'La', 'autoridad', 'pidió', 'ayuda', 'a', 'la', 'población', 'para', 'identificar', 'a', 'estos', '“malos', 'ciudadanos”,', 'que', 'según', 'la', 'perspectiva', 'del', 'Ejecutivo,', 'actúan', 'con', '“intereses', 'oscuros,', 'como', 'pasó', 'anteriormente.', 'No', 'vamos', 'a', 'permitir,', 'de', 'ninguna', 'manera,', 'que', 'gente', 'y', 'personas', 'que', 'están', 'provocando', 'estos', 'incendios', 'queden', 'impunes,', 'sino', 'vamos', 'a', 'ser', 'muy', 'drásticos', 'con', 'todos', 'ellos.', 'Por', 'eso', 'la', 'Policía', 'está', 'desplazando', 'Inteligencia', 'al', 'lugar”.', 'En', 'esa', 'línea,', 'el', 'vicepresidente,', 'David', 'Choquehuanca,', 'exigió', 'que', 'se', 'investigue', 'y', 'castigue', 'a', 'los', 'que', 'buscan', 'sabotear', 'la', 'gestión', 'de', 'Gobierno.', '“Exigimos', 'a', 'las', 'autoridades', 'competentes', 'celeridad', 'en', 'la', 'investigación', 'y', 'un', 'castigo', 'ejemplar', 'para', 'aquellos', 'que', 'atentan', 'contra', 'la', 'vida', 'y', 'la', 'naturaleza,', 'provocando', 'incendios', 'en', 'un', 'intento', 'de', 'sabotear', 'a', 'nuestro', 'Gobierno”,', 'se', 'lee', 'en', 'las', 'cuentas', 'de', 'redes', 'sociales', 'de', 'Choquehuanca.', 'Además', 'de', 'aquello,', 'el', 'Gobierno', 'activó', 'con', 'la', 'ABT', '(Autoridad', 'de', 'Fiscalización', 'y', 'Control', 'Social', 'de', 'Bosques', 'y', 'Tierras),', 'controles', 'en', 'los', 'chaqueos.', 'El', 'ministro', 'Novillo', 'hizo', 'énfasis', 'en', 'apuntar', 'a', 'los', 'empresarios', 'agropecuarios', 'medianos', 'y', 'grandes,', 'a', 'quienes', 'advirtió', 'con', 'procesos.', 'La', 'autoridad', 'dijo', 'que', 'se', 'controlará', '“toda', 'actividad', 'que', 'pueda', 'hacerse', 'en', 'los', 'incendios', 'en', 'propiedades', 'medianas', 'y', 'grandes', 'ganaderas.', 'Verificar', 'si', 'éstos', 'tienen', 'o', 'no', 'tienen', 'sus', 'autorizaciones', 'para', 'la', 'quema', 'y', 'si', 'estas', 'han', 'expirado', 'el', 'tiempo', 'y', 'si', 'no,', 'vamos', 'a', 'notificarles', 'y', 'vamos', 'a', 'iniciarles', 'los', 'procesos', 'respectivos”.', 'No', 'obstante,', 'Novillo', 'evitó', 'mencionar', 'a', 'los', 'grupos', 'de', 'avasalladores', 'interculturales', 'se', 'asientan', 'en', 'tierras', 'fiscales', 'y', 'privadas', 'y', 'que', 'también', 'tienen', 'denuncias', 'de', 'chaqueos.', 'Campesinos', 'detenidos', 'Desde', 'la', 'Coordinadora', 'Nacional', 'de', 'Defensa', 'de', 'Territorios', 'Indígenas', 'Originarios', 'Campesinos', 'y', 'Áreas', 'Protegidas', 'de', 'Bolivia', '(Contiocap)', 'denunciaron', 'que', 'en', 'los', 'últimos', 'días', 'en', 'el', 'municipio', 'de', 'San', 'Buenaventura', 'la', 'Policía', 'aprehendió', 'a', 'dos', 'campesinos', 'que', 'estaban', 'haciendo', 'defensivos', 'para', 'que', 'el', 'fuego', 'no', 'avance.', 'La', 'Policía', 'los', 'acusó', 'de', 'provocar', 'los', 'incendios', 'porque', 'estaban', 'con', 'maquinaria.', '“El', 'Gobierno', 'ha', 'detenido', 'a', 'comunarios', 'de', 'la', 'población', 'de', 'Tumupasa,', 'a', 'dos', 'hermanos', 'de', 'una', 'comunidad', 'campesina', 'que', 'han', 'sido', 'detenidos', 'con', 'una', 'segadora,', 'una', 'motosierra', 'y', 'con', 'un', 'poco', 'de', 'gasolina.', 'Ellos', 'lo', 'que', 'estaban', 'haciendo', 'era', 'intentar', 'hacerdefensivos,', 'abrir', 'brechas', 'para', 'separar', 'el', 'fuego', 'y', 'que', 'no', 'avance.', 'Ellos', 'han', 'usado', 'la', 'poca', 'gasolina', 'que', 'tenían', 'y', 'sus', 'herramientas', 'como', 'evidencia', 'de', 'que', 'están', 'provocando', 'incendios”,', 'dijo', 'a', 'EL', 'DEBER', 'la', 'representante', 'de', 'la', 'Contiocap,', 'Ruth', 'Alipaz.', 'La', 'representante', 'protestó', 'y', 'dijo', 'que', 'el', '“Gobierno', 'está', 'haciendo', 'un', 'trabajo', 'pésimo,', 'vulnerando', 'derechos', 'de', 'las', 'personas', 'que', 'están', 'luchando', 'sin', 'ayuda', 'del', 'Gobierno', 'hace', 'más', 'de', 'un', 'mes', 'contra', 'los', 'incendios', 'y', 'los', 'muestra', 'como', 'trofeos”.', 'Después', 'de', 'varias', 'semanas', 'de', 'emergencia', 'e', 'insistentes', 'pedidos', 'de', 'los', 'indígenas,', 'organizaciones', 'sociales,', 'activistas', 'y', 'políticos,', 'de', 'que', 'se', 'declare', '“Desastre', 'Nacional”,', 'anoche', 'el', 'presidente', 'Luis', 'Arce', 'convocó', 'a', 'un', 'gabinete', 'para', 'tratar', 'la', 'crisis', 'del', 'medioambiente,', 'y', 'determinó', 'pedir', 'ayuda', 'internacional', 'a', 'cuatro', 'países:', 'Francia,', 'Chile,', 'Brasil', 'y', 'Venezuela.', 'Éste', 'último', 'envió', 'de', 'manera', 'inmediata', 'un', 'grupo', 'de', 'bomberos', 'expertos', 'en', 'apagar', 'incendios', 'forestales.']\n"
     ]
    }
   ],
   "source": [
    "tokens = [token.text for token in doc]\n",
    "print(tokens)\n",
    "print(tokens2)"
   ]
  },
  {
   "cell_type": "markdown",
   "metadata": {},
   "source": [
    "## Part-of-Speech tagging"
   ]
  },
  {
   "cell_type": "code",
   "execution_count": 7,
   "metadata": {},
   "outputs": [
    {
     "name": "stdout",
     "output_type": "stream",
     "text": [
      "[('reactivaron', 'VERB'), ('calificados', 'VERB'), ('sabotear', 'VERB'), ('envió', 'VERB'), ('identificar', 'VERB'), ('aprehender', 'VERB'), ('procesar', 'VERB'), ('activado', 'VERB'), ('desplazar', 'VERB'), ('sospechamos', 'VERB'), ('existen', 'VERB'), ('enviado', 'VERB'), ('existen', 'VERB'), ('detenido', 'VERB'), ('dedicándose', 'VERB'), ('provocar', 'VERB'), ('dijo', 'VERB'), ('pidió', 'VERB'), ('identificar', 'VERB'), ('actúan', 'VERB'), ('pasó', 'VERB'), ('permitir', 'VERB'), ('provocando', 'VERB'), ('queden', 'VERB'), ('desplazando', 'VERB'), ('exigió', 'VERB'), ('investigue', 'VERB'), ('castigue', 'VERB'), ('buscan', 'VERB'), ('sabotear', 'VERB'), ('Exigimos', 'VERB'), ('atentan', 'VERB'), ('provocando', 'VERB'), ('sabotear', 'VERB'), ('lee', 'VERB'), ('activó', 'VERB'), ('hizo', 'VERB'), ('apuntar', 'VERB'), ('advirtió', 'VERB'), ('dijo', 'VERB'), ('controlará', 'VERB'), ('hacerse', 'VERB'), ('Verificar', 'VERB'), ('tienen', 'VERB'), ('tienen', 'VERB'), ('expirado', 'VERB'), ('notificarles', 'VERB'), ('iniciarles', 'VERB'), ('evitó', 'VERB'), ('mencionar', 'VERB'), ('asientan', 'VERB'), ('tienen', 'VERB'), ('denunciaron', 'VERB'), ('aprehendió', 'VERB'), ('haciendo', 'VERB'), ('acusó', 'VERB'), ('provocar', 'VERB'), ('estaban', 'VERB'), ('detenido', 'VERB'), ('detenidos', 'VERB'), ('haciendo', 'VERB'), ('intentar', 'VERB'), ('abrir', 'VERB'), ('separar', 'VERB'), ('usado', 'VERB'), ('tenían', 'VERB'), ('provocando', 'VERB'), ('dijo', 'VERB'), ('protestó', 'VERB'), ('dijo', 'VERB'), ('haciendo', 'VERB'), ('vulnerando', 'VERB'), ('luchando', 'VERB'), ('hace', 'VERB'), ('declare', 'VERB'), ('convocó', 'VERB'), ('tratar', 'VERB'), ('determinó', 'VERB'), ('pedir', 'VERB'), ('envió', 'VERB'), ('apagar', 'VERB')]\n"
     ]
    }
   ],
   "source": [
    "pos_tags = [(token.text, token.pos_) for token in doc if token.pos_ == \"VERB\"]\n",
    "print(pos_tags)\n"
   ]
  },
  {
   "cell_type": "markdown",
   "metadata": {},
   "source": [
    "## Named entity recognition (NER)"
   ]
  },
  {
   "cell_type": "code",
   "execution_count": 8,
   "metadata": {},
   "outputs": [
    {
     "name": "stdout",
     "output_type": "stream",
     "text": [
      "[('La Paz', 'LOC'), ('Beni', 'LOC'), ('Gobierno de Luis Arce', 'LOC'), ('Por tal motivo', 'MISC'), ('Inteligencia', 'ORG'), ('La Paz', 'LOC'), ('Beni', 'LOC'), ('Policía', 'ORG'), ('Rurrenabaque', 'LOC'), ('Beni', 'LOC'), ('San Buenaventura', 'LOC'), ('La Paz', 'LOC'), ('Edmundo Novillo', 'PER'), ('Ejecutivo', 'ORG'), ('No vamos a permitir', 'MISC'), ('Por eso la Policía', 'MISC'), ('Inteligencia', 'ORG'), ('David Choquehuanca', 'PER'), ('Gobierno.\\n\\n', 'MISC'), ('Gobierno', 'MISC'), ('Choquehuanca', 'PER'), ('Gobierno activó', 'LOC'), ('ABT', 'ORG'), ('Autoridad de Fiscalización y Control Social de Bosques y Tierras', 'ORG'), ('El ministro Novillo', 'MISC'), ('Verificar', 'MISC'), ('Novillo', 'PER'), ('Campesinos', 'PER'), ('Coordinadora Nacional de Defensa de Territorios Indígenas Originarios Campesinos', 'ORG'), ('Áreas Protegidas de Bolivia', 'LOC'), ('Contiocap', 'LOC'), ('San Buenaventura', 'LOC'), ('La Policía', 'MISC'), ('Gobierno', 'MISC'), ('Tumupasa', 'LOC'), ('Ellos', 'PER'), ('Ellos', 'MISC'), ('EL', 'PER'), ('Contiocap', 'LOC'), ('Ruth Alipaz', 'PER'), ('Gobierno', 'MISC'), ('Desastre Nacional', 'MISC'), ('Luis Arce', 'PER'), ('Francia', 'LOC'), ('Chile', 'LOC'), ('Brasil', 'LOC'), ('Venezuela', 'LOC')]\n"
     ]
    }
   ],
   "source": [
    "entities = [(ent.text, ent.label_) for ent in doc.ents]\n",
    "\n",
    "print(entities)"
   ]
  },
  {
   "cell_type": "markdown",
   "metadata": {},
   "source": [
    "## Dependency parsing  "
   ]
  },
  {
   "cell_type": "code",
   "execution_count": 9,
   "metadata": {},
   "outputs": [
    {
     "name": "stdout",
     "output_type": "stream",
     "text": [
      "[('Los', 'det'), ('incendios', 'nsubj'), ('que', 'nsubj'), ('se', 'expl:pv'), ('reactivaron', 'acl'), ('con', 'case'), ('fuerza', 'obl'), ('las', 'det'), ('últimas', 'amod'), ('semanas', 'obl'), (',', 'punct'), ('en', 'advmod'), ('especial', 'fixed'), ('en', 'case'), ('el', 'det'), ('norte', 'nmod'), ('de', 'case'), ('La', 'det'), ('Paz', 'nmod'), ('y', 'cc'), ('Beni', 'conj'), (',', 'punct'), ('son', 'aux'), ('calificados', 'ROOT'), ('como', 'mark'), ('un', 'det'), ('“', 'punct'), ('intento', 'obj'), ('de', 'mark'), ('sabotear', 'acl'), ('”', 'punct'), ('al', 'case'), ('Gobierno', 'obj'), ('de', 'case'), ('Luis', 'nmod'), ('Arce', 'flat'), ('.', 'punct'), ('Por', 'advmod'), ('tal', 'fixed'), ('motivo', 'fixed'), (',', 'punct'), ('se', 'expl:pass'), ('envió', 'ROOT'), ('policías', 'nsubj'), ('de', 'case'), ('Inteligencia', 'nmod'), ('al', 'case'), ('norte', 'nmod'), ('de', 'case'), ('La', 'det'), ('Paz', 'nmod'), ('y', 'cc'), ('Beni', 'conj'), ('para', 'mark'), ('identificar', 'advcl'), (',', 'punct'), ('aprehender', 'advcl'), ('y', 'cc'), ('procesar', 'conj'), ('a', 'case'), ('los', 'det'), ('supuestos', 'amod'), ('saboteadores', 'obj'), ('.', 'punct'), ('\\n\\n', 'dep'), ('“', 'punct'), ('Se', 'expl:pass'), ('ha', 'aux'), ('activado', 'ccomp'), ('(', 'punct'), ('un', 'det'), (')', 'punct'), ('grupo', 'nsubj'), ('de', 'case'), ('inteligencia', 'nmod'), ('de', 'case'), ('la', 'det'), ('Policía', 'nmod'), ('que', 'nsubj'), ('se', 'expl:pv'), ('va', 'aux'), ('a', 'mark'), ('desplazar', 'acl'), (',', 'punct'), ('particularmente', 'advmod'), ('en', 'case'), ('el', 'det'), ('municipio', 'nmod'), ('de', 'case'), ('Rurrenabaque', 'nmod'), ('(', 'punct'), ('Beni', 'flat'), (')', 'punct'), ('y', 'cc'), ('San', 'conj'), ('Buenaventura', 'flat'), ('(', 'punct'), ('La', 'det'), ('Paz', 'flat'), (')', 'punct'), (',', 'punct'), ('porque', 'mark'), ('sospechamos', 'advcl'), (',', 'punct'), ('y', 'cc'), ('existen', 'conj'), ('evidencias', 'nsubj'), ('que', 'nsubj'), ('nos', 'iobj'), ('han', 'aux'), ('enviado', 'acl'), ('de', 'case'), ('llantas', 'obl'), (',', 'punct'), ('existen', 'ccomp'), ('evidencias', 'nsubj'), ('que', 'nsubj'), ('allá', 'advmod'), ('ya', 'advmod'), ('han', 'aux'), ('detenido', 'acl'), ('personas', 'nsubj'), ('que', 'nsubj'), ('están', 'aux'), ('dedicándose', 'acl'), ('a', 'case'), ('la', 'det'), ('tarea', 'obj'), ('maliciosa', 'amod'), (',', 'punct'), ('a', 'case'), ('la', 'det'), ('tarea', 'obl'), ('malintencionada', 'amod'), ('de', 'mark'), ('provocar', 'acl'), ('estos', 'det'), ('incendios', 'obj'), ('”', 'punct'), (',', 'punct'), ('dijo', 'ROOT'), ('el', 'det'), ('ministro', 'nsubj'), ('de', 'case'), ('Defensa', 'nmod'), ('Edmundo', 'appos'), ('Novillo', 'flat'), ('.', 'punct'), ('\\n\\n', 'dep'), ('La', 'det'), ('autoridad', 'nsubj'), ('pidió', 'ROOT'), ('ayuda', 'obj'), ('a', 'case'), ('la', 'det'), ('población', 'nmod'), ('para', 'mark'), ('identificar', 'advcl'), ('a', 'case'), ('estos', 'det'), ('“', 'punct'), ('malos', 'amod'), ('ciudadanos', 'obj'), ('”', 'punct'), (',', 'punct'), ('que', 'nsubj'), ('según', 'case'), ('la', 'det'), ('perspectiva', 'obl'), ('del', 'case'), ('Ejecutivo', 'nmod'), (',', 'punct'), ('actúan', 'ccomp'), ('con', 'case'), ('“', 'punct'), ('intereses', 'obl'), ('oscuros', 'amod'), (',', 'punct'), ('como', 'mark'), ('pasó', 'acl'), ('anteriormente', 'advmod'), ('.', 'punct'), ('No', 'advmod'), ('vamos', 'aux'), ('a', 'mark'), ('permitir', 'ROOT'), (',', 'punct'), ('de', 'case'), ('ninguna', 'det'), ('manera', 'obl'), (',', 'punct'), ('que', 'mark'), ('gente', 'nsubj'), ('y', 'cc'), ('personas', 'conj'), ('que', 'nsubj'), ('están', 'aux'), ('provocando', 'acl'), ('estos', 'det'), ('incendios', 'obj'), ('queden', 'acl'), ('impunes', 'obj'), (',', 'punct'), ('sino', 'cc'), ('vamos', 'aux'), ('a', 'case'), ('ser', 'cop'), ('muy', 'advmod'), ('drásticos', 'conj'), ('con', 'case'), ('todos', 'det'), ('ellos', 'obl'), ('.', 'punct'), ('Por', 'case'), ('eso', 'obl'), ('la', 'det'), ('Policía', 'nsubj'), ('está', 'aux'), ('desplazando', 'ROOT'), ('Inteligencia', 'nsubj'), ('al', 'case'), ('lugar', 'obl'), ('”', 'punct'), ('.', 'punct'), ('\\n\\n\\n', 'dep'), ('En', 'case'), ('esa', 'det'), ('línea', 'obl'), (',', 'punct'), ('el', 'det'), ('vicepresidente', 'nsubj'), (',', 'punct'), ('David', 'appos'), ('Choquehuanca', 'flat'), (',', 'punct'), ('exigió', 'ROOT'), ('que', 'mark'), ('se', 'expl:pass'), ('investigue', 'ccomp'), ('y', 'cc'), ('castigue', 'conj'), ('a', 'mark'), ('los', 'det'), ('que', 'nsubj'), ('buscan', 'ccomp'), ('sabotear', 'xcomp'), ('la', 'det'), ('gestión', 'obj'), ('de', 'case'), ('Gobierno', 'nmod'), ('.', 'punct'), ('\\n\\n', 'dep'), ('“', 'punct'), ('Exigimos', 'ccomp'), ('a', 'case'), ('las', 'det'), ('autoridades', 'obj'), ('competentes', 'amod'), ('celeridad', 'amod'), ('en', 'case'), ('la', 'det'), ('investigación', 'obl'), ('y', 'cc'), ('un', 'det'), ('castigo', 'conj'), ('ejemplar', 'amod'), ('para', 'case'), ('aquellos', 'nmod'), ('que', 'nsubj'), ('atentan', 'acl'), ('contra', 'case'), ('la', 'det'), ('vida', 'obl'), ('y', 'cc'), ('la', 'det'), ('naturaleza', 'conj'), (',', 'punct'), ('provocando', 'advcl'), ('incendios', 'obj'), ('en', 'case'), ('un', 'det'), ('intento', 'obl'), ('de', 'mark'), ('sabotear', 'acl'), ('a', 'case'), ('nuestro', 'det'), ('Gobierno', 'obj'), ('”', 'punct'), (',', 'punct'), ('se', 'expl:pass'), ('lee', 'ROOT'), ('en', 'case'), ('las', 'det'), ('cuentas', 'obl'), ('de', 'case'), ('redes', 'nmod'), ('sociales', 'amod'), ('de', 'case'), ('Choquehuanca', 'nmod'), ('.', 'punct'), ('\\n\\n', 'dep'), ('Además', 'case'), ('de', 'fixed'), ('aquello', 'obl'), (',', 'punct'), ('el', 'det'), ('Gobierno', 'nsubj'), ('activó', 'amod'), ('con', 'case'), ('la', 'det'), ('ABT', 'obl'), ('(', 'punct'), ('Autoridad', 'flat'), ('de', 'case'), ('Fiscalización', 'flat'), ('y', 'cc'), ('Control', 'conj'), ('Social', 'flat'), ('de', 'case'), ('Bosques', 'flat'), ('y', 'cc'), ('Tierras', 'conj'), (')', 'punct'), (',', 'punct'), ('controles', 'ROOT'), ('en', 'case'), ('los', 'det'), ('chaqueos', 'nmod'), ('.', 'punct'), ('El', 'det'), ('ministro', 'nsubj'), ('Novillo', 'appos'), ('hizo', 'ROOT'), ('énfasis', 'obj'), ('en', 'mark'), ('apuntar', 'advcl'), ('a', 'case'), ('los', 'det'), ('empresarios', 'obj'), ('agropecuarios', 'amod'), ('medianos', 'amod'), ('y', 'cc'), ('grandes', 'conj'), (',', 'punct'), ('a', 'case'), ('quienes', 'obj'), ('advirtió', 'advcl'), ('con', 'case'), ('procesos', 'obj'), ('.', 'punct'), ('\\n\\n\\n', 'dep'), ('La', 'det'), ('autoridad', 'nsubj'), ('dijo', 'ROOT'), ('que', 'mark'), ('se', 'expl:pv'), ('controlará', 'ccomp'), ('“', 'punct'), ('toda', 'det'), ('actividad', 'nsubj'), ('que', 'nsubj'), ('pueda', 'aux'), ('hacerse', 'acl'), ('en', 'case'), ('los', 'det'), ('incendios', 'obj'), ('en', 'case'), ('propiedades', 'nmod'), ('medianas', 'amod'), ('y', 'cc'), ('grandes', 'conj'), ('ganaderas', 'amod'), ('.', 'punct'), ('Verificar', 'ROOT'), ('si', 'mark'), ('éstos', 'nsubj'), ('tienen', 'advcl'), ('o', 'cc'), ('no', 'conj'), ('tienen', 'ccomp'), ('sus', 'det'), ('autorizaciones', 'obj'), ('para', 'case'), ('la', 'det'), ('quema', 'nmod'), ('y', 'cc'), ('si', 'mark'), ('estas', 'nsubj'), ('han', 'aux'), ('expirado', 'conj'), ('el', 'det'), ('tiempo', 'obj'), ('y', 'cc'), ('si', 'mark'), ('no', 'advmod'), (',', 'punct'), ('vamos', 'aux'), ('a', 'mark'), ('notificarles', 'conj'), ('y', 'cc'), ('vamos', 'aux'), ('a', 'mark'), ('iniciarles', 'conj'), ('los', 'det'), ('procesos', 'obj'), ('respectivos', 'amod'), ('”', 'punct'), ('.', 'punct'), ('\\n\\n', 'dep'), ('No', 'advmod'), ('obstante', 'fixed'), (',', 'punct'), ('Novillo', 'nsubj'), ('evitó', 'ROOT'), ('mencionar', 'xcomp'), ('a', 'case'), ('los', 'det'), ('grupos', 'obj'), ('de', 'case'), ('avasalladores', 'nmod'), ('interculturales', 'amod'), ('se', 'expl:pv'), ('asientan', 'conj'), ('en', 'case'), ('tierras', 'obl'), ('fiscales', 'amod'), ('y', 'cc'), ('privadas', 'conj'), ('y', 'cc'), ('que', 'nsubj'), ('también', 'advmod'), ('tienen', 'conj'), ('denuncias', 'obj'), ('de', 'case'), ('chaqueos', 'nmod'), ('.', 'punct'), ('\\n\\n\\n', 'dep'), ('Campesinos', 'nsubj'), ('detenidos', 'amod'), ('\\n\\n', 'dep'), ('Desde', 'case'), ('la', 'det'), ('Coordinadora', 'obl'), ('Nacional', 'flat'), ('de', 'case'), ('Defensa', 'flat'), ('de', 'case'), ('Territorios', 'flat'), ('Indígenas', 'flat'), ('Originarios', 'flat'), ('Campesinos', 'flat'), ('y', 'cc'), ('Áreas', 'conj'), ('Protegidas', 'flat'), ('de', 'case'), ('Bolivia', 'flat'), ('(', 'punct'), ('Contiocap', 'flat'), (')', 'punct'), ('denunciaron', 'ROOT'), ('que', 'mark'), ('en', 'case'), ('los', 'det'), ('últimos', 'amod'), ('días', 'obl'), ('en', 'case'), ('el', 'det'), ('municipio', 'nmod'), ('de', 'case'), ('San', 'nmod'), ('Buenaventura', 'flat'), ('la', 'det'), ('Policía', 'nsubj'), ('aprehendió', 'ccomp'), ('a', 'case'), ('dos', 'nummod'), ('campesinos', 'obj'), ('que', 'nsubj'), ('estaban', 'aux'), ('haciendo', 'acl'), ('defensivos', 'obj'), ('para', 'mark'), ('que', 'mark'), ('el', 'det'), ('fuego', 'nsubj'), ('no', 'advmod'), ('avance', 'advcl'), ('.', 'punct'), ('La', 'det'), ('Policía', 'nsubj'), ('los', 'iobj'), ('acusó', 'ROOT'), ('de', 'mark'), ('provocar', 'xcomp'), ('los', 'det'), ('incendios', 'obj'), ('porque', 'mark'), ('estaban', 'cop'), ('con', 'case'), ('maquinaria', 'advcl'), ('.', 'punct'), ('\\n\\n', 'dep'), ('“', 'punct'), ('El', 'det'), ('Gobierno', 'nsubj'), ('ha', 'aux'), ('detenido', 'ROOT'), ('a', 'case'), ('comunarios', 'obj'), ('de', 'case'), ('la', 'det'), ('población', 'nmod'), ('de', 'case'), ('Tumupasa', 'nmod'), (',', 'punct'), ('a', 'case'), ('dos', 'nummod'), ('hermanos', 'nmod'), ('de', 'case'), ('una', 'det'), ('comunidad', 'nmod'), ('campesina', 'amod'), ('que', 'nsubj'), ('han', 'aux'), ('sido', 'aux'), ('detenidos', 'acl'), ('con', 'case'), ('una', 'det'), ('segadora', 'obl'), (',', 'punct'), ('una', 'det'), ('motosierra', 'appos'), ('y', 'cc'), ('con', 'case'), ('un', 'det'), ('poco', 'conj'), ('de', 'case'), ('gasolina', 'nmod'), ('.', 'punct'), ('Ellos', 'nsubj'), ('lo', 'det'), ('que', 'obj'), ('estaban', 'aux'), ('haciendo', 'csubj'), ('era', 'ROOT'), ('intentar', 'ccomp'), ('hacerdefensivos', 'obj'), (',', 'punct'), ('abrir', 'advcl'), ('brechas', 'obj'), ('para', 'mark'), ('separar', 'advcl'), ('el', 'det'), ('fuego', 'obj'), ('y', 'cc'), ('que', 'mark'), ('no', 'advmod'), ('avance', 'conj'), ('.', 'punct'), ('Ellos', 'nsubj'), ('han', 'aux'), ('usado', 'ccomp'), ('la', 'det'), ('poca', 'det'), ('gasolina', 'obj'), ('que', 'nsubj'), ('tenían', 'acl'), ('y', 'cc'), ('sus', 'det'), ('herramientas', 'conj'), ('como', 'mark'), ('evidencia', 'obl'), ('de', 'mark'), ('que', 'mark'), ('están', 'aux'), ('provocando', 'acl'), ('incendios', 'obj'), ('”', 'punct'), (',', 'punct'), ('dijo', 'ROOT'), ('a', 'case'), ('EL', 'det'), ('DEBER', 'iobj'), ('la', 'det'), ('representante', 'nsubj'), ('de', 'case'), ('la', 'det'), ('Contiocap', 'nmod'), (',', 'punct'), ('Ruth', 'appos'), ('Alipaz', 'flat'), ('.', 'punct'), ('\\n\\n', 'dep'), ('La', 'det'), ('representante', 'nsubj'), ('protestó', 'ROOT'), ('y', 'cc'), ('dijo', 'conj'), ('que', 'mark'), ('el', 'det'), ('“', 'punct'), ('Gobierno', 'nsubj'), ('está', 'aux'), ('haciendo', 'ccomp'), ('un', 'det'), ('trabajo', 'obj'), ('pésimo', 'amod'), (',', 'punct'), ('vulnerando', 'advcl'), ('derechos', 'obj'), ('de', 'case'), ('las', 'det'), ('personas', 'nmod'), ('que', 'nsubj'), ('están', 'aux'), ('luchando', 'acl'), ('sin', 'case'), ('ayuda', 'obl'), ('del', 'case'), ('Gobierno', 'nmod'), ('hace', 'advcl'), ('más', 'advmod'), ('de', 'case'), ('un', 'det'), ('mes', 'obj'), ('contra', 'case'), ('los', 'det'), ('incendios', 'obl'), ('y', 'cc'), ('los', 'det'), ('muestra', 'conj'), ('como', 'mark'), ('trofeos', 'nmod'), ('”', 'punct'), ('.', 'punct'), ('\\n\\n', 'dep'), ('Después', 'advmod'), ('de', 'case'), ('varias', 'det'), ('semanas', 'obl'), ('de', 'case'), ('emergencia', 'nmod'), ('e', 'cc'), ('insistentes', 'amod'), ('pedidos', 'conj'), ('de', 'case'), ('los', 'det'), ('indígenas', 'nmod'), (',', 'punct'), ('organizaciones', 'appos'), ('sociales', 'amod'), (',', 'punct'), ('activistas', 'conj'), ('y', 'cc'), ('políticos', 'conj'), (',', 'punct'), ('de', 'mark'), ('que', 'mark'), ('se', 'expl:pass'), ('declare', 'advcl'), ('“', 'punct'), ('Desastre', 'nsubj'), ('Nacional', 'flat'), ('”', 'punct'), (',', 'punct'), ('anoche', 'advmod'), ('el', 'det'), ('presidente', 'nsubj'), ('Luis', 'appos'), ('Arce', 'flat'), ('convocó', 'ROOT'), ('a', 'case'), ('un', 'det'), ('gabinete', 'obj'), ('para', 'mark'), ('tratar', 'advcl'), ('la', 'det'), ('crisis', 'obj'), ('del', 'case'), ('medioambiente', 'nmod'), (',', 'punct'), ('y', 'cc'), ('determinó', 'conj'), ('pedir', 'xcomp'), ('ayuda', 'obj'), ('internacional', 'amod'), ('a', 'case'), ('cuatro', 'nummod'), ('países', 'obj'), (':', 'punct'), ('Francia', 'appos'), (',', 'punct'), ('Chile', 'conj'), (',', 'punct'), ('Brasil', 'conj'), ('y', 'cc'), ('Venezuela', 'conj'), ('.', 'punct'), ('\\n\\n', 'dep'), ('Éste', 'nsubj'), ('último', 'amod'), ('envió', 'ROOT'), ('de', 'case'), ('manera', 'obl'), ('inmediata', 'amod'), ('un', 'det'), ('grupo', 'obj'), ('de', 'case'), ('bomberos', 'nmod'), ('expertos', 'amod'), ('en', 'mark'), ('apagar', 'acl'), ('incendios', 'obj'), ('forestales', 'amod'), ('.', 'punct')]\n"
     ]
    }
   ],
   "source": [
    "dependency_tree = [(token.text, token.dep_) for token in doc]\n",
    "print(dependency_tree)"
   ]
  },
  {
   "cell_type": "markdown",
   "metadata": {},
   "source": [
    "## Vector embeddings"
   ]
  },
  {
   "cell_type": "code",
   "execution_count": 5,
   "metadata": {},
   "outputs": [
    {
     "data": {
      "text/plain": [
       "(300,)"
      ]
     },
     "execution_count": 5,
     "metadata": {},
     "output_type": "execute_result"
    }
   ],
   "source": [
    "doc.vector.shape"
   ]
  },
  {
   "cell_type": "code",
   "execution_count": null,
   "metadata": {},
   "outputs": [],
   "source": []
  }
 ],
 "metadata": {
  "kernelspec": {
   "display_name": "topics",
   "language": "python",
   "name": "python3"
  },
  "language_info": {
   "codemirror_mode": {
    "name": "ipython",
    "version": 3
   },
   "file_extension": ".py",
   "mimetype": "text/x-python",
   "name": "python",
   "nbconvert_exporter": "python",
   "pygments_lexer": "ipython3",
   "version": "3.11.5"
  }
 },
 "nbformat": 4,
 "nbformat_minor": 2
}
