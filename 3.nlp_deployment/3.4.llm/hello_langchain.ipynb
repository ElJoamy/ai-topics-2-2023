{
 "cells": [
  {
   "cell_type": "code",
   "execution_count": 37,
   "metadata": {},
   "outputs": [],
   "source": [
    "from langchain.chat_models import ChatOpenAI\n",
    "from langchain.prompts import PromptTemplate"
   ]
  },
  {
   "cell_type": "code",
   "execution_count": 38,
   "metadata": {},
   "outputs": [],
   "source": [
    "llm = ChatOpenAI(model_name=\"gpt-3.5-turbo\", openai_api_key=\"\")"
   ]
  },
  {
   "cell_type": "code",
   "execution_count": 39,
   "metadata": {},
   "outputs": [],
   "source": [
    "PROMPT_TEMPLATE = \"\"\"\n",
    "You are looking to watch a movie of genre {genre}, this weekend, in order to pick \n",
    "what movie to watch you need to propose the options with the following data:\n",
    "- Title\n",
    "- Genre/subgenre\n",
    "- User rating\n",
    "- Critics rating\n",
    "- Release year\n",
    "- duration minutes\n",
    "- gore level\n",
    "\n",
    "Generate {n_examples} recommendations using the {format_instructions}\n",
    "\"\"\""
   ]
  },
  {
   "cell_type": "code",
   "execution_count": 40,
   "metadata": {},
   "outputs": [],
   "source": [
    "from langchain.output_parsers import PydanticOutputParser\n",
    "from pydantic import BaseModel\n",
    "import datetime\n",
    "\n",
    "class Movie(BaseModel):\n",
    "    title: str\n",
    "    genre_subgenre: str\n",
    "    user_rating: float\n",
    "    critics_rating: float\n",
    "    release_year: int\n",
    "    duration_minutes: int\n",
    "    gore_level: float\n",
    "\n",
    "class MovieCommends(BaseModel):\n",
    "    genre: str\n",
    "    recommendations: list[Movie]\n",
    "\n",
    "out_parser = PydanticOutputParser(pydantic_object=MovieCommends)\n",
    "\n",
    "prompt_tpl = PromptTemplate(\n",
    "    template=PROMPT_TEMPLATE,\n",
    "    input_variables=[\"genre\", \"n_examples\"],\n",
    "    partial_variables=\n",
    "    {\n",
    "        \"format_instructions\": out_parser.get_format_instructions()\n",
    "    },\n",
    ")"
   ]
  },
  {
   "cell_type": "code",
   "execution_count": 41,
   "metadata": {},
   "outputs": [],
   "source": [
    "class MoviesParams(BaseModel):\n",
    "    genre: str\n",
    "    n_examples: int\n",
    "\n",
    "params = MoviesParams(genre=\"romantic\", n_examples=4)\n",
    "\n",
    "llm_input = prompt_tpl.format(**params.dict())\n",
    "prediction = llm.predict(llm_input)"
   ]
  },
  {
   "cell_type": "code",
   "execution_count": 42,
   "metadata": {},
   "outputs": [],
   "source": [
    "movies = out_parser.parse(prediction)"
   ]
  },
  {
   "cell_type": "code",
   "execution_count": 43,
   "metadata": {},
   "outputs": [
    {
     "data": {
      "text/plain": [
       "'romantic'"
      ]
     },
     "execution_count": 43,
     "metadata": {},
     "output_type": "execute_result"
    }
   ],
   "source": [
    "movies.genre"
   ]
  },
  {
   "cell_type": "code",
   "execution_count": 44,
   "metadata": {},
   "outputs": [
    {
     "name": "stdout",
     "output_type": "stream",
     "text": [
      "The Notebook 0.0 8.1 2004\n",
      "La La Land 0.0 8.0 2016\n",
      "Eternal Sunshine of the Spotless Mind 0.0 8.3 2004\n",
      "Crazy, Stupid, Love. 0.0 7.4 2011\n"
     ]
    }
   ],
   "source": [
    "for m in movies.recommendations:\n",
    "    print(m.title, m.gore_level, m.user_rating, m.release_year)"
   ]
  }
 ],
 "metadata": {
  "kernelspec": {
   "display_name": "nlp",
   "language": "python",
   "name": "python3"
  },
  "language_info": {
   "codemirror_mode": {
    "name": "ipython",
    "version": 3
   },
   "file_extension": ".py",
   "mimetype": "text/x-python",
   "name": "python",
   "nbconvert_exporter": "python",
   "pygments_lexer": "ipython3",
   "version": "3.11.5"
  }
 },
 "nbformat": 4,
 "nbformat_minor": 2
}
