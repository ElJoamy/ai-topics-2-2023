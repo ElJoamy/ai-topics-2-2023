{
 "cells": [
  {
   "cell_type": "code",
   "execution_count": 6,
   "metadata": {},
   "outputs": [],
   "source": [
    "import openai"
   ]
  },
  {
   "cell_type": "code",
   "execution_count": 7,
   "metadata": {},
   "outputs": [],
   "source": [
    "api_key = \"\""
   ]
  },
  {
   "cell_type": "code",
   "execution_count": 8,
   "metadata": {},
   "outputs": [],
   "source": [
    "client = openai.OpenAI(api_key=api_key)"
   ]
  },
  {
   "cell_type": "code",
   "execution_count": 21,
   "metadata": {},
   "outputs": [],
   "source": [
    "response = client.chat.completions.create(\n",
    "    model=\"gpt-3.5-turbo\",\n",
    "    messages=[\n",
    "        {\"role\": \"system\", \"content\": \"Eres un guia de turismo especializado en turismo de aventura\"},\n",
    "        {\"role\": \"user\", \"content\": \"Propone viajes de 3 dias\"},\n",
    "        {\"role\": \"assistant\", \"content\": \"Claro, aqui esta el detalle con: Lugar, Duracion, costo, riesgo\"}\n",
    "    ],\n",
    "    max_tokens=300,\n",
    "    # n=3,\n",
    "    temperature=0.3\n",
    ")\n"
   ]
  },
  {
   "cell_type": "code",
   "execution_count": 22,
   "metadata": {},
   "outputs": [
    {
     "data": {
      "text/plain": [
       "'Viaje de 3 días: \\n\\nLugar: Selva Amazónica\\nDuración: 3 días, 2 noches\\nCosto: $500 por persona\\nRiesgo: Medio\\n\\nEste viaje te llevará a explorar la exuberante selva amazónica, una de las maravillas naturales más impresionantes del mundo. Durante estos 3 días, te sumergirás en la biodiversidad de la selva, disfrutarás de caminatas por senderos selváticos, realizarás paseos en canoa por ríos y lagunas, y tendrás la oportunidad de observar de cerca la flora y fauna autóctona.\\n\\nEl costo de este viaje incluye el transporte desde la ciudad más cercana hasta el punto de inicio de la expedición, alojamiento en cabañas rústicas en medio de la selva, comidas típicas preparadas por guías locales, y actividades guiadas.\\n\\nEs importante tener en cuenta que este viaje tiene un nivel medio de riesgo, ya que estarás en un entorno natural y salvaje. Se recomienda estar en buena condición física y seguir las instrucciones de los guías en todo momento.\\n\\n¡Prepárate para una aventura inolvidable en la selva amazónica!'"
      ]
     },
     "execution_count": 22,
     "metadata": {},
     "output_type": "execute_result"
    }
   ],
   "source": [
    "response.choices[0].message.content"
   ]
  },
  {
   "cell_type": "code",
   "execution_count": 17,
   "metadata": {},
   "outputs": [
    {
     "data": {
      "text/plain": [
       "'Policía: Buenos días, señor. ¿Es usted el albañil encargado de la construcción en esta casa?\\n\\nAlbañil: Sí, agente. Mi nombre es Juan. ¿En qué puedo ayudarle?\\n\\nPolicía: Estamos investigando un robo que ocurrió aquí anoche. ¿Estuvo trabajando hasta tarde ayer?\\n\\nAlbañil: Sí, estuve aquí hasta bastante tarde. Estamos haciendo algunos'"
      ]
     },
     "execution_count": 17,
     "metadata": {},
     "output_type": "execute_result"
    }
   ],
   "source": [
    "response.choices[0].message.content"
   ]
  }
 ],
 "metadata": {
  "kernelspec": {
   "display_name": "nlp",
   "language": "python",
   "name": "python3"
  },
  "language_info": {
   "codemirror_mode": {
    "name": "ipython",
    "version": 3
   },
   "file_extension": ".py",
   "mimetype": "text/x-python",
   "name": "python",
   "nbconvert_exporter": "python",
   "pygments_lexer": "ipython3",
   "version": "3.11.5"
  }
 },
 "nbformat": 4,
 "nbformat_minor": 2
}
